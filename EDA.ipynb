{
 "cells": [
  {
   "cell_type": "code",
   "execution_count": 6,
   "metadata": {
    "ExecuteTime": {
     "end_time": "2021-03-09T03:38:07.788611Z",
     "start_time": "2021-03-09T03:38:07.773325Z"
    }
   },
   "outputs": [],
   "source": [
    "#utilities\n",
    "import re\n",
    "import pickle\n",
    "import numpy as np\n",
    "import pandas as pd\n",
    "#plotting\n",
    "import seaborn as sns\n",
    "from wordcloud import WordCloud\n",
    "import matplotlib.pyplot as plt\n",
    "#nltk\n",
    "from nltk.stem import WordNetLemmatizer\n",
    "#sklearn\n",
    "from sklearn.svm import LinearSVC\n",
    "from sklearn.naive_bayes import BernoulliNB\n",
    "from sklearn.linear_model import LogisticRegression\n",
    "from sklearn.model_selection import train_test_split\n",
    "from sklearn.feature_extraction.text import TfidfVectorizer\n",
    "from sklearn.metrics import confusion_matrix, classification_report"
   ]
  },
  {
   "cell_type": "markdown",
   "metadata": {},
   "source": [
    "## Importing and cleaning data"
   ]
  },
  {
   "cell_type": "code",
   "execution_count": 8,
   "metadata": {
    "ExecuteTime": {
     "end_time": "2021-03-09T03:46:09.227015Z",
     "start_time": "2021-03-09T03:46:04.157189Z"
    }
   },
   "outputs": [],
   "source": [
    "#removing encoding and naming columns\n",
    "data_columns = ['sentiment','ids','date','flag','user','text']\n",
    "data_encoding = 'ISO-8859-1'\n",
    "dataset = pd.read_csv('../../../../../Downloads/training.1600000.processed.noemoticon.csv',encoding=data_encoding,names=data_columns)"
   ]
  },
  {
   "cell_type": "code",
   "execution_count": 9,
   "metadata": {
    "ExecuteTime": {
     "end_time": "2021-03-09T03:50:16.652091Z",
     "start_time": "2021-03-09T03:50:16.423997Z"
    }
   },
   "outputs": [],
   "source": [
    "#removing undesired columns\n",
    "dataset = dataset[['sentiment','text']]\n",
    "#replacing 4 with 1 for easier understanding\n",
    "dataset['sentiment'] = dataset['sentiment'].replace(4,1)\n"
   ]
  },
  {
   "cell_type": "code",
   "execution_count": 10,
   "metadata": {
    "ExecuteTime": {
     "end_time": "2021-03-09T03:52:25.150293Z",
     "start_time": "2021-03-09T03:52:24.676267Z"
    }
   },
   "outputs": [
    {
     "data": {
      "image/png": "[encoded data removed]",
      "text/plain": [
       "<Figure size 432x288 with 1 Axes>"
      ]
     },
     "metadata": {
      "needs_background": "light"
     },
     "output_type": "display_data"
    }
   ],
   "source": [
    "ax = dataset.groupby('sentiment').count().plot(kind='bar',title='Data Distribution')\n"
   ]
  },
  {
   "cell_type": "code",
   "execution_count": 11,
   "metadata": {
    "ExecuteTime": {
     "end_time": "2021-03-09T04:02:16.565712Z",
     "start_time": "2021-03-09T04:02:16.189415Z"
    }
   },
   "outputs": [],
   "source": [
    "#seperating text and sentiment into itterable list\n",
    "text, sentiment = list(dataset['text']),list(dataset['sentiment'])"
   ]
  },
  {
   "cell_type": "code",
   "execution_count": null,
   "metadata": {},
   "outputs": [],
   "source": [
    "re.sub"
   ]
  },
  {
   "cell_type": "code",
   "execution_count": null,
   "metadata": {},
   "outputs": [],
   "source": []
  }
 ],
 "metadata": {
  "kernelspec": {
   "display_name": "learn-env",
   "language": "python",
   "name": "learn-env"
  },
  "language_info": {
   "codemirror_mode": {
    "name": "ipython",
    "version": 3
   },
   "file_extension": ".py",
   "mimetype": "text/x-python",
   "name": "python",
   "nbconvert_exporter": "python",
   "pygments_lexer": "ipython3",
   "version": "3.6.9"
  },
  "toc": {
   "base_numbering": 1,
   "nav_menu": {},
   "number_sections": true,
   "sideBar": true,
   "skip_h1_title": false,
   "title_cell": "Table of Contents",
   "title_sidebar": "Contents",
   "toc_cell": false,
   "toc_position": {},
   "toc_section_display": true,
   "toc_window_display": false
  }
 },
 "nbformat": 4,
 "nbformat_minor": 4
}
